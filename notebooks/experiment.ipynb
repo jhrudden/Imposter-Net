{
 "cells": [
  {
   "cell_type": "code",
   "execution_count": null,
   "metadata": {},
   "outputs": [],
   "source": [
    "import pathlib\n",
    "import sys\n",
    "import os\n",
    "root_path = pathlib.Path().absolute().parent\n",
    "sys.path.append(str(root_path))\n",
    "\n",
    "from src.train import run_experiment\n",
    "from src.models.dqn import SpatialDQN\n",
    "from src.replay_memory import FastReplayBuffer\n",
    "from src.env import FourRoomEnvWithTagging\n",
    "from src.featurizers import PerspectiveFeaturizer, GlobalFeaturizer\n",
    "from src.visualize import StateSequenceVisualizer\n",
    "\n",
    "import torch\n",
    "\n",
    "torch.set_printoptions(precision=3, sci_mode=False, linewidth=200)"
   ]
  },
  {
   "cell_type": "code",
   "execution_count": null,
   "metadata": {},
   "outputs": [],
   "source": [
    "BUF_SIZE = 3000\n",
    "N_IMPOSTERS = 1\n",
    "N_JOBS = 5\n",
    "N_CREW = 4\n",
    "SEQUENCE_SIZE = 2\n",
    "env = FourRoomEnvWithTagging(n_imposters=N_IMPOSTERS, n_crew=N_CREW, n_jobs=N_JOBS, debug=False)"
   ]
  },
  {
   "cell_type": "code",
   "execution_count": null,
   "metadata": {},
   "outputs": [],
   "source": [
    "imposter_model_config = {\n",
    "    \"input_image_size\": env.n_cols,\n",
    "    \"non_spatial_input_size\": 20,\n",
    "    \"n_channels\": [7, 5, 3],\n",
    "    \"strides\": [1, 1],\n",
    "    \"paddings\": [1, 1],\n",
    "    \"kernel_sizes\": [3, 3],\n",
    "    \"rnn_layers\": 3,\n",
    "    \"rnn_hidden_dim\": 64,\n",
    "    \"rnn_dropout\": 0.2,\n",
    "    \"mlp_hidden_layer_dims\": [16, 16],\n",
    "    \"n_actions\": env.n_imposter_actions\n",
    "}\n",
    "\n",
    "crew_model_config = {\n",
    "    \"input_image_size\": env.n_cols,\n",
    "    \"non_spatial_input_size\": 20,\n",
    "    \"n_channels\": [7, 5, 3],\n",
    "    \"strides\": [1, 1],\n",
    "    \"paddings\": [1, 1],\n",
    "    \"kernel_sizes\": [3, 3],\n",
    "    \"rnn_layers\": 3,\n",
    "    \"rnn_hidden_dim\": 64,\n",
    "    \"rnn_dropout\": 0.2,\n",
    "    \"mlp_hidden_layer_dims\": [16, 16],\n",
    "    \"n_actions\": env.n_crew_actions\n",
    "}"
   ]
  },
  {
   "cell_type": "code",
   "execution_count": null,
   "metadata": {},
   "outputs": [],
   "source": [
    "run_experiment(\n",
    "    env=env, \n",
    "    num_steps=100000,\n",
    "    imposter_dqn_args=imposter_model_config,\n",
    "    crew_dqn_args={},\n",
    "    imposter_dqn_type='spatial_dqn',\n",
    "    crew_dqn_type='random', \n",
    "    featurizer_type='global',\n",
    "    sequence_length = 10,\n",
    "    replay_buffer_size=10_000,\n",
    "    replay_prepopulate_steps=1_000,\n",
    "    batch_size=4,\n",
    "    gamma=0.99,\n",
    "    scheduler_start_eps=1,\n",
    "    scheduler_end_eps=0.05,\n",
    "    scheduler_time_steps=100_000,\n",
    "    train_imposter=True,\n",
    "    train_crew=False,\n",
    "    imposter_pretrained_model_path=None,\n",
    "    crew_pretrained_model_path=None,\n",
    "    experiment_save_path=root_path / \"model_registry\" / \"tests\",\n",
    "    optimizer_type = \"Adam\",\n",
    "    learning_rate=0.001,\n",
    "    train_step_interval=5,\n",
    "    num_checkpoint_saves=2,\n",
    ")"
   ]
  },
  {
   "cell_type": "code",
   "execution_count": null,
   "metadata": {},
   "outputs": [],
   "source": [
    "run_experiment(\n",
    "    env=env, \n",
    "    num_steps=100000,\n",
    "    imposter_dqn_args={},\n",
    "    crew_dqn_args=crew_model_config,\n",
    "    imposter_dqn_type='random',\n",
    "    crew_dqn_type='spatial_dqn', \n",
    "    featurizer_type='global',\n",
    "    sequence_length = 3,\n",
    "    replay_buffer_size=3000,\n",
    "    replay_prepopulate_steps=1_000,\n",
    "    batch_size=4,\n",
    "    gamma=0.99,\n",
    "    scheduler_start_eps=1,\n",
    "    scheduler_end_eps=0.05,\n",
    "    scheduler_time_steps=100_000,\n",
    "    train_imposter=False,\n",
    "    train_crew=True,\n",
    "    imposter_pretrained_model_path=None,\n",
    "    crew_pretrained_model_path=None,\n",
    "    experiment_save_path=root_path / \"model_registry\" / \"tests\",\n",
    "    optimizer_type = \"Adam\",\n",
    "    learning_rate=0.001,\n",
    "    train_step_interval=5,\n",
    "    num_checkpoint_saves=2,\n",
    ")"
   ]
  },
  {
   "cell_type": "code",
   "execution_count": null,
   "metadata": {},
   "outputs": [],
   "source": [
    "\n",
    "# THIS IS A WORKING MODEL SETUP!!!\n",
    "\n",
    "imposter_model = SpatialDQN(\n",
    "            input_image_size=env.n_cols,\n",
    "            non_spatial_input_size=23,\n",
    "            n_channels=[8, 5, 3],\n",
    "            strides=[1, 1],\n",
    "            paddings=[1, 1],\n",
    "            kernel_sizes=[3, 3],\n",
    "            rnn_layers=3,\n",
    "            rnn_hidden_dim=64,\n",
    "            rnn_dropout=0.2,\n",
    "            mlp_hidden_layer_dims=[16, 16],\n",
    "            n_actions=env.n_imposter_actions,\n",
    "        )"
   ]
  },
  {
   "cell_type": "code",
   "execution_count": null,
   "metadata": {},
   "outputs": [],
   "source": []
  }
 ],
 "metadata": {
  "kernelspec": {
   "display_name": "Python 3",
   "language": "python",
   "name": "python3"
  },
  "language_info": {
   "codemirror_mode": {
    "name": "ipython",
    "version": 3
   },
   "file_extension": ".py",
   "mimetype": "text/x-python",
   "name": "python",
   "nbconvert_exporter": "python",
   "pygments_lexer": "ipython3",
   "version": "3.12.3"
  }
 },
 "nbformat": 4,
 "nbformat_minor": 2
}
